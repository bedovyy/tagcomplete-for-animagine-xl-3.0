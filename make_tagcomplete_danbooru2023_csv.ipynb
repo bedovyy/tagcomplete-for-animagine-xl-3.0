{
 "cells": [
  {
   "cell_type": "code",
   "execution_count": null,
   "id": "9dcfebbc-448b-46af-9f5b-e6f464616495",
   "metadata": {},
   "outputs": [],
   "source": [
    "# running this once for the first time.\n",
    "!mkdir -p downloads intermediates outputs\n",
    "\n",
    "# download tag achives from nyanko7/danbooru2023\n",
    "!wget -q --show-progress -c -P downloads/ \"https://huggingface.co/datasets/nyanko7/danbooru2023/resolve/main/metadata/artists.tar.xz\"\n",
    "!wget -q --show-progress -c -P downloads/ \"https://huggingface.co/datasets/nyanko7/danbooru2023/resolve/main/metadata/tags.tar.xz\"\n",
    "\n",
    "# untar\n",
    "!tar xf downloads/artists.tar.xz -C intermediates/\n",
    "!tar xf downloads/tags.tar.xz -C intermediates/"
   ]
  },
  {
   "cell_type": "code",
   "execution_count": null,
   "id": "8f84d311-2b5c-44a4-8040-775b118d3d09",
   "metadata": {},
   "outputs": [],
   "source": [
    "# we only need 3 columns.\n",
    "!sed -e 's/^.*antecedent_name\":\"\\([^\"]*\\).*consequent_name\":\"\\([^\"]*\\).*status\":\"\\([^\"]*\\).*$/\\1, \\2, \\3/g' intermediates/tag_aliases.json > intermediates/tag_aliases.csv\n",
    "!sed -e 's/^.*name\":\"\\(.*\\)\",\"post_count\":\\([0-9]*\\),\"category\":\\([0-9]*\\).*$/\\1, \\3, \\2/' intermediates/tags.json > intermediates/tags.csv"
   ]
  },
  {
   "cell_type": "code",
   "execution_count": null,
   "id": "30a52963-69e4-4a3e-a34d-3b37c512f6de",
   "metadata": {},
   "outputs": [],
   "source": [
    "import re\n",
    "import sys\n",
    "\n",
    "IGNORE_ALIAS_STATES = [ 'retired', 'deleted' ]\n",
    "\n",
    "# get aliases\n",
    "file = \"intermediates/tag_aliases.csv\"\n",
    "alias_dict = {}\n",
    "with open(file, 'r') as infile:\n",
    "    for row in infile:\n",
    "        antecedent, consequent, status = row.replace('\\\\', '').split(', ')\n",
    "        if status in IGNORE_ALIAS_STATES:\n",
    "            continue\n",
    "        consequent = consequent.strip().replace(' ', '_')\n",
    "        antecedent = antecedent.strip().replace(' ', '_')\n",
    "        if consequent not in alias_dict:\n",
    "            alias_dict[consequent] = []\n",
    "        alias_dict[consequent].append(antecedent)\n",
    "infile.close()\n",
    "\n",
    "#check\n",
    "dict(list(alias_dict.items())[:10])"
   ]
  },
  {
   "cell_type": "code",
   "execution_count": null,
   "id": "82697040-dbb7-4022-ae6e-5f82208509dd",
   "metadata": {},
   "outputs": [],
   "source": [
    "\n",
    "# read data from taglist and store to csv\n",
    "file = \"intermediates/tags.csv\"\n",
    "unique_data = {}\n",
    "with open(file, 'r') as infile:\n",
    "    for row in infile:\n",
    "        try:\n",
    "            name, category, count = row.strip().split(', ')\n",
    "            if int(count) > 0:\n",
    "                unique_data[name] = { \"category\": int(category), \"count\": int(count) }\n",
    "        except:\n",
    "            print(row)\n",
    "            raise Exception(\"nahhh\")\n",
    "infile.close()\n",
    "\n",
    "ordered_data = dict(sorted(unique_data.items(), key=lambda x: x[1][\"count\"], reverse=True))\n",
    "\n",
    "with open(\"outputs/danbooru2023.csv\", 'w') as outfile:\n",
    "    for key, value in ordered_data.items():\n",
    "        key_to_show = f'\"{key}\"' if \",\" in key else key\n",
    "        outfile.write(f\"{key_to_show},{value['category']},{value['count']}\")\n",
    "        if (key in alias_dict):\n",
    "            outfile.write(f',\"{\",\".join(alias_dict[key])}\"')\n",
    "        outfile.write(\"\\n\")\n",
    "outfile.close()"
   ]
  }
 ],
 "metadata": {
  "kernelspec": {
   "display_name": "Python 3 (ipykernel)",
   "language": "python",
   "name": "python3"
  },
  "language_info": {
   "codemirror_mode": {
    "name": "ipython",
    "version": 3
   },
   "file_extension": ".py",
   "mimetype": "text/x-python",
   "name": "python",
   "nbconvert_exporter": "python",
   "pygments_lexer": "ipython3",
   "version": "3.10.12"
  }
 },
 "nbformat": 4,
 "nbformat_minor": 5
}
