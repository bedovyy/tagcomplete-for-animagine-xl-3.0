{
 "cells": [
  {
   "cell_type": "markdown",
   "id": "749ad87c-1ed1-4506-96ab-16d2b38081b0",
   "metadata": {},
   "source": [
    "before running this, you should run make_tagcomplete_csv.ipynb"
   ]
  },
  {
   "cell_type": "code",
   "execution_count": null,
   "id": "bcdae4c5-9a42-480b-9fe1-cff44b532cc2",
   "metadata": {},
   "outputs": [],
   "source": [
    "# running this once for the first time.\n",
    "!grep \",1,[0-9]\" outputs/animagine-xl-3.0.csv > intermediates/artist-animagine-xl-3.0.csv"
   ]
  },
  {
   "cell_type": "code",
   "execution_count": null,
   "id": "afa85192-93ad-404d-a3c2-b73d93b39112",
   "metadata": {},
   "outputs": [],
   "source": [
    "import re\n",
    "import sys\n",
    "\n",
    "LIMIT_COUNT = 150\n",
    "\n",
    "# make artist_dict from artist csv.\n",
    "file = \"intermediates/artist-animagine-xl-3.0.csv\"\n",
    "artist_dict = {}\n",
    "with open(file, 'r') as infile:\n",
    "    for row in infile:\n",
    "        artist, _, count, _ = row.split(',')\n",
    "        if (int(count) >= LIMIT_COUNT):\n",
    "            artist_dict[artist] = {}\n",
    "infile.close()\n",
    "artist_list = list(artist_dict.keys())"
   ]
  },
  {
   "cell_type": "code",
   "execution_count": null,
   "id": "d92ca525-12de-4144-bb48-2105f052fe50",
   "metadata": {},
   "outputs": [],
   "source": [
    "unnecessary_tag_pattern = [\n",
    "    '_quality',\n",
    "    'commentary',\n",
    "    'translat',\n",
    "    '_background',\n",
    "    'looking_'\n",
    "]\n",
    "\n",
    "unnecessary_tags = [\n",
    "    'highres',\n",
    "    'solo',\n",
    "    'newest',\n",
    "    'late',\n",
    "    'mid',\n",
    "    'absurdres',\n",
    "    'nsfw',\n",
    "    'comic',\n",
    "    'upper_body',\n",
    "    'full_body',\n",
    "    'standing',\n",
    "    'bad_id',\n",
    "    'bad_pixiv_id',\n",
    "    'bad_twitter_id',\n",
    "    'sweat',\n",
    "    'hetero',\n",
    "    'censored',\n",
    "    'indoor',\n",
    "    'outdoor',\n",
    "    'smile',\n",
    "    'blush'\n",
    "]\n",
    "\n",
    "# read data from csv\n",
    "file = \"intermediates/taglist.csv\"\n",
    "with open(file, 'r') as infile:\n",
    "    for row in infile:\n",
    "        tags = row.strip().split(', ')\n",
    "        artists = [];\n",
    "        after_rating = False;\n",
    "        for tag in tags:\n",
    "            tag = tag.replace('||| ', '').strip().replace(' ', '_')\n",
    "\n",
    "            if not tag:\n",
    "                print (\"got empty tag from \", tags)\n",
    "                continue\n",
    "            \n",
    "            if tag in artist_list:\n",
    "                artists.append(tag)\n",
    "            elif after_rating:\n",
    "                if (not any(pattern in tag for pattern in unnecessary_tag_pattern) and\n",
    "                    not any(unnecessary_tag == tag for unnecessary_tag in unnecessary_tags)):\n",
    "                    for artist in artists:\n",
    "                        if tag not in artist_dict[artist]:\n",
    "                            artist_dict[artist][tag] = 0\n",
    "                        artist_dict[artist][tag] += 1\n",
    "            \n",
    "            if \"rating:\" in tag:\n",
    "                after_rating = True\n",
    "infile.close()"
   ]
  },
  {
   "cell_type": "code",
   "execution_count": null,
   "id": "9badeb0a-df22-4ee5-bedb-79c588c20a5d",
   "metadata": {},
   "outputs": [],
   "source": [
    "TOTAL_ADDITIONAL_TAGS = 10\n",
    "\n",
    "cut_dict = {}\n",
    "for key, value in artist_dict.items():\n",
    "    ordered_value = dict(sorted(value.items(), key=lambda x: x[1], reverse=True))\n",
    "    cut_dict[key] = dict(list(ordered_value.items())[:TOTAL_ADDITIONAL_TAGS])\n",
    "\n",
    "newfile = \"outputs/animagine_xl_3.0_artists.txt\"\n",
    "with open(newfile, 'w') as outfile:\n",
    "    for artist in artist_list:\n",
    "        formatted_artist = artist.replace('(', '\\\\(').replace(')','\\\\)').replace('_', ' ')\n",
    "        outfile.write(f\"{formatted_artist}\")\n",
    "        for key in cut_dict[artist].keys():\n",
    "            formatted = key.replace('(', '\\\\(').replace(')','\\\\)').replace('_', ' ')\n",
    "            outfile.write(f\", {formatted}\")\n",
    "        outfile.write(\"\\n\")\n",
    "outfile.close()"
   ]
  }
 ],
 "metadata": {
  "kernelspec": {
   "display_name": "Python 3 (ipykernel)",
   "language": "python",
   "name": "python3"
  },
  "language_info": {
   "codemirror_mode": {
    "name": "ipython",
    "version": 3
   },
   "file_extension": ".py",
   "mimetype": "text/x-python",
   "name": "python",
   "nbconvert_exporter": "python",
   "pygments_lexer": "ipython3",
   "version": "3.10.12"
  }
 },
 "nbformat": 4,
 "nbformat_minor": 5
}
