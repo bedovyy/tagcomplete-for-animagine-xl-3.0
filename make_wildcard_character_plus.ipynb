{
 "cells": [
  {
   "cell_type": "markdown",
   "id": "00e4c0ba-474c-4386-b407-9446fb517df4",
   "metadata": {},
   "source": [
    "before running this, you should run make_tagcomplete_csv.ipynb"
   ]
  },
  {
   "cell_type": "code",
   "execution_count": null,
   "id": "afa85192-93ad-404d-a3c2-b73d93b39112",
   "metadata": {},
   "outputs": [],
   "source": [
    "import re\n",
    "import sys\n",
    "\n",
    "# get character info from character.txt\n",
    "file = \"downloads/character.txt\"\n",
    "character_dict = {}\n",
    "with open(file, 'r') as infile:\n",
    "    for row in infile:\n",
    "        _, character, _ = row.replace('\\\\', '').split(', ')\n",
    "        character_dict[character.strip().replace(' ', '_')] = {}\n",
    "infile.close()\n",
    "character_list = list(character_dict.keys())"
   ]
  },
  {
   "cell_type": "code",
   "execution_count": null,
   "id": "d92ca525-12de-4144-bb48-2105f052fe50",
   "metadata": {},
   "outputs": [],
   "source": [
    "unnecessary_tag_pattern = [\n",
    "    '_quality',\n",
    "    'commentary',\n",
    "    'translat',\n",
    "    '_background',\n",
    "    'looking_'\n",
    "]\n",
    "\n",
    "unnecessary_tags = [\n",
    "    'highres',\n",
    "    'solo',\n",
    "    'newest',\n",
    "    'late',\n",
    "    'mid',\n",
    "    'absurdres',\n",
    "    'nsfw',\n",
    "    'comic',\n",
    "    'upper_body',\n",
    "    'full_body',\n",
    "    'standing',\n",
    "    'bad_id',\n",
    "    'bad_pixiv_id',\n",
    "    'bad_twitter_id',\n",
    "    'sweat',\n",
    "    'hetero',\n",
    "    'censored',\n",
    "    'indoor',\n",
    "    'outdoor',\n",
    "    'smile',\n",
    "    'blush'\n",
    "]\n",
    "\n",
    "# read data from csv\n",
    "file = \"intermediates/taglist.csv\"\n",
    "with open(file, 'r') as infile:\n",
    "    for row in infile:\n",
    "        tags = row.strip().split(', ')\n",
    "        characters = [];\n",
    "        after_rating = False;\n",
    "        for tag in tags:\n",
    "            tag = tag.replace('||| ', '').strip().replace(' ', '_')\n",
    "            \n",
    "            if tag in character_list:\n",
    "                characters.append(tag)\n",
    "            elif after_rating:\n",
    "                if (not any(pattern in tag for pattern in unnecessary_tag_pattern) and\n",
    "                    not any(unnecessary_tag == tag for unnecessary_tag in unnecessary_tags)):\n",
    "                    for character in characters:\n",
    "                        if tag not in character_dict[character]:\n",
    "                            character_dict[character][tag] = 0\n",
    "                        character_dict[character][tag] += 1\n",
    "            \n",
    "            if \"rating:\" in tag:\n",
    "                after_rating = True\n",
    "infile.close()"
   ]
  },
  {
   "cell_type": "code",
   "execution_count": null,
   "id": "9badeb0a-df22-4ee5-bedb-79c588c20a5d",
   "metadata": {},
   "outputs": [],
   "source": [
    "TOTAL_ADDITIONAL_TAGS = 10\n",
    "\n",
    "cut_dict = {}\n",
    "for key, value in character_dict.items():\n",
    "    ordered_value = dict(sorted(value.items(), key=lambda x: x[1], reverse=True))\n",
    "    cut_dict[key] = dict(list(ordered_value.items())[:TOTAL_ADDITIONAL_TAGS])\n",
    "\n",
    "file = \"downloads/character.txt\"\n",
    "newfile = \"outputs/character_plus.txt\"\n",
    "with open(file, 'r') as infile:\n",
    "    with open(newfile, 'w') as outfile:\n",
    "        for row in infile:\n",
    "            _, character, _ = row.replace('\\\\', '').split(', ')\n",
    "            outfile.write(row.strip())\n",
    "            if character.strip().replace(' ', '_') in cut_dict:\n",
    "                for key in cut_dict[character.strip().replace(' ', '_')].keys():\n",
    "                    formatted = key.replace('(', '\\\\(').replace(')','\\\\)').replace('_', ' ')\n",
    "                    outfile.write(f\", {formatted}\")\n",
    "            outfile.write(\"\\n\")\n",
    "    outfile.close()\n",
    "infile.close()"
   ]
  }
 ],
 "metadata": {
  "kernelspec": {
   "display_name": "Python 3 (ipykernel)",
   "language": "python",
   "name": "python3"
  },
  "language_info": {
   "codemirror_mode": {
    "name": "ipython",
    "version": 3
   },
   "file_extension": ".py",
   "mimetype": "text/x-python",
   "name": "python",
   "nbconvert_exporter": "python",
   "pygments_lexer": "ipython3",
   "version": "3.10.12"
  }
 },
 "nbformat": 4,
 "nbformat_minor": 5
}
